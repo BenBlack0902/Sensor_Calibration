{
 "cells": [
  {
   "cell_type": "code",
   "execution_count": 16,
   "metadata": {
    "collapsed": true
   },
   "outputs": [],
   "source": [
    "import pandas as pd\n",
    "import numpy as np\n",
    "import os\n",
    "import sys\n",
    "import datetime\n",
    "import time"
   ]
  },
  {
   "cell_type": "code",
   "execution_count": 17,
   "outputs": [],
   "source": [
    "#from netCDF4 import Dataset, num2date\n",
    "import matplotlib.pyplot as plt\n",
    "from sklearn.ensemble import RandomForestRegressor,AdaBoostRegressor,GradientBoostingRegressor\n",
    "from sklearn.neural_network import MLPRegressor\n",
    "from sklearn.model_selection import GridSearchCV, train_test_split\n",
    "from sklearn.preprocessing import MinMaxScaler, StandardScaler, RobustScaler, MaxAbsScaler,Normalizer\n",
    "from sklearn.cluster import KMeans\n",
    "from sklearn.mixture import GaussianMixture\n",
    "from sklearn.metrics import adjusted_rand_score, r2_score\n",
    "from sklearn.feature_selection import mutual_info_regression"
   ],
   "metadata": {
    "collapsed": false,
    "pycharm": {
     "name": "#%%\n"
    }
   }
  },
  {
   "cell_type": "code",
   "execution_count": 18,
   "outputs": [],
   "source": [
    "import matplotlib.dates as mdates\n",
    "import matplotlib.colors\n",
    "import matplotlib.ticker as ticker"
   ],
   "metadata": {
    "collapsed": false,
    "pycharm": {
     "name": "#%%\n"
    }
   }
  },
  {
   "cell_type": "code",
   "execution_count": 19,
   "outputs": [],
   "source": [
    "import pytz\n",
    "\n",
    "import pickle"
   ],
   "metadata": {
    "collapsed": false,
    "pycharm": {
     "name": "#%%\n"
    }
   }
  },
  {
   "cell_type": "code",
   "execution_count": 6,
   "outputs": [
    {
     "name": "stdout",
     "output_type": "stream",
     "text": [
      "Collecting shap\n",
      "  Downloading shap-0.41.0-cp38-cp38-win_amd64.whl (435 kB)\n",
      "Collecting packaging>20.9\n",
      "  Downloading packaging-21.3-py3-none-any.whl (40 kB)\n",
      "Requirement already satisfied: tqdm>4.25.0 in c:\\users\\bkari\\anaconda3\\lib\\site-packages (from shap) (4.50.2)\n",
      "Requirement already satisfied: numba in c:\\users\\bkari\\anaconda3\\lib\\site-packages (from shap) (0.51.2)\n",
      "Requirement already satisfied: scipy in c:\\users\\bkari\\anaconda3\\lib\\site-packages (from shap) (1.5.2)\n",
      "Requirement already satisfied: numpy in c:\\users\\bkari\\anaconda3\\lib\\site-packages (from shap) (1.22.2)\n",
      "Requirement already satisfied: scikit-learn in c:\\users\\bkari\\anaconda3\\lib\\site-packages (from shap) (0.23.2)\n",
      "Requirement already satisfied: cloudpickle in c:\\users\\bkari\\anaconda3\\lib\\site-packages (from shap) (1.2.2)\n",
      "Collecting slicer==0.0.7\n",
      "  Downloading slicer-0.0.7-py3-none-any.whl (14 kB)\n",
      "Requirement already satisfied: pandas in c:\\users\\bkari\\anaconda3\\lib\\site-packages (from shap) (1.1.3)\n",
      "Requirement already satisfied: pyparsing!=3.0.5,>=2.0.2 in c:\\users\\bkari\\anaconda3\\lib\\site-packages (from packaging>20.9->shap) (2.4.7)\n",
      "Requirement already satisfied: llvmlite<0.35,>=0.34.0.dev0 in c:\\users\\bkari\\anaconda3\\lib\\site-packages (from numba->shap) (0.34.0)\n",
      "Requirement already satisfied: setuptools in c:\\users\\bkari\\anaconda3\\lib\\site-packages (from numba->shap) (50.3.1.post20201107)\n",
      "Requirement already satisfied: joblib>=0.11 in c:\\users\\bkari\\anaconda3\\lib\\site-packages (from scikit-learn->shap) (1.1.0)\n",
      "Requirement already satisfied: threadpoolctl>=2.0.0 in c:\\users\\bkari\\anaconda3\\lib\\site-packages (from scikit-learn->shap) (2.1.0)\n",
      "Requirement already satisfied: python-dateutil>=2.7.3 in c:\\users\\bkari\\anaconda3\\lib\\site-packages (from pandas->shap) (2.8.0)\n",
      "Requirement already satisfied: pytz>=2017.2 in c:\\users\\bkari\\anaconda3\\lib\\site-packages (from pandas->shap) (2020.1)\n",
      "Requirement already satisfied: six>=1.5 in c:\\users\\bkari\\anaconda3\\lib\\site-packages (from python-dateutil>=2.7.3->pandas->shap) (1.15.0)\n",
      "Installing collected packages: packaging, slicer, shap\n",
      "  Attempting uninstall: packaging\n",
      "    Found existing installation: packaging 20.4\n",
      "    Uninstalling packaging-20.4:\n",
      "      Successfully uninstalled packaging-20.4\n",
      "Successfully installed packaging-21.3 shap-0.41.0 slicer-0.0.7\n"
     ]
    }
   ],
   "source": [
    "!pip install shap"
   ],
   "metadata": {
    "collapsed": false,
    "pycharm": {
     "name": "#%%\n"
    }
   }
  },
  {
   "cell_type": "code",
   "execution_count": 20,
   "outputs": [],
   "source": [
    "import shap"
   ],
   "metadata": {
    "collapsed": false,
    "pycharm": {
     "name": "#%%\n"
    }
   }
  },
  {
   "cell_type": "code",
   "execution_count": 21,
   "outputs": [],
   "source": [
    "from sklearn.decomposition import PCA, FastICA\n",
    "from sklearn.random_projection import GaussianRandomProjection"
   ],
   "metadata": {
    "collapsed": false,
    "pycharm": {
     "name": "#%%\n"
    }
   }
  },
  {
   "cell_type": "code",
   "execution_count": 32,
   "outputs": [],
   "source": [
    "RANDOM_STATE = 42"
   ],
   "metadata": {
    "collapsed": false,
    "pycharm": {
     "name": "#%%\n"
    }
   }
  },
  {
   "cell_type": "code",
   "execution_count": 21,
   "outputs": [],
   "source": [],
   "metadata": {
    "collapsed": false,
    "pycharm": {
     "name": "#%%\n"
    }
   }
  },
  {
   "cell_type": "code",
   "execution_count": 22,
   "outputs": [],
   "source": [
    "from sklearn.metrics import r2_score, mean_squared_error, mean_absolute_error\n",
    "\n",
    "def loss_functions(y_true, y_pred):\n",
    "    print(\"Loss functions:\")\n",
    "    print(\"* R-squared =\", r2_score(y_true, y_pred))\n",
    "    print(\"* RMSE =\", mean_squared_error(y_true, y_pred))\n",
    "    print(\"* MAE =\", mean_absolute_error(y_true, y_pred))"
   ],
   "metadata": {
    "collapsed": false,
    "pycharm": {
     "name": "#%%\n"
    }
   }
  },
  {
   "cell_type": "code",
   "execution_count": null,
   "outputs": [],
   "source": [],
   "metadata": {
    "collapsed": false,
    "pycharm": {
     "name": "#%%\n"
    }
   }
  },
  {
   "cell_type": "markdown",
   "source": [
    "### Read Data\n",
    " https://github.com/yichigo/Light-Sensors-Calibration/blob/master/model_MLP_whole.ipynb"
   ],
   "metadata": {
    "collapsed": false,
    "pycharm": {
     "name": "#%% md\n"
    }
   }
  },
  {
   "cell_type": "code",
   "execution_count": 23,
   "outputs": [],
   "source": [
    "df=pd.read_csv(r\"C:\\\\Users\\\\bkari\\\\Desktop\\\\complete_data.csv\")"
   ],
   "metadata": {
    "collapsed": false,
    "pycharm": {
     "name": "#%%\n"
    }
   }
  },
  {
   "cell_type": "code",
   "execution_count": 24,
   "outputs": [
    {
     "data": {
      "text/plain": "   Unnamed: 0  RefSt  Sensor  Gewicht  Raw_Feucht  Temp_grain  \\\n0           0  13.33    13.0     8.07      1214.0        40.6   \n1           1  14.17    13.3     6.96      1292.0        40.8   \n\n   SommerDurumweizen  SommerGerste  Weizen  WinterDurumweizen  WinterGerste  \\\n0                1.0           0.0     0.0                0.0           0.0   \n1                1.0           0.0     0.0                0.0           0.0   \n\n   WinterRaps  WinterRoggen  WinterTriticale  WinterWeizen  \n0         0.0           0.0              0.0           0.0  \n1         0.0           0.0              0.0           0.0  ",
      "text/html": "<div>\n<style scoped>\n    .dataframe tbody tr th:only-of-type {\n        vertical-align: middle;\n    }\n\n    .dataframe tbody tr th {\n        vertical-align: top;\n    }\n\n    .dataframe thead th {\n        text-align: right;\n    }\n</style>\n<table border=\"1\" class=\"dataframe\">\n  <thead>\n    <tr style=\"text-align: right;\">\n      <th></th>\n      <th>Unnamed: 0</th>\n      <th>RefSt</th>\n      <th>Sensor</th>\n      <th>Gewicht</th>\n      <th>Raw_Feucht</th>\n      <th>Temp_grain</th>\n      <th>SommerDurumweizen</th>\n      <th>SommerGerste</th>\n      <th>Weizen</th>\n      <th>WinterDurumweizen</th>\n      <th>WinterGerste</th>\n      <th>WinterRaps</th>\n      <th>WinterRoggen</th>\n      <th>WinterTriticale</th>\n      <th>WinterWeizen</th>\n    </tr>\n  </thead>\n  <tbody>\n    <tr>\n      <th>0</th>\n      <td>0</td>\n      <td>13.33</td>\n      <td>13.0</td>\n      <td>8.07</td>\n      <td>1214.0</td>\n      <td>40.6</td>\n      <td>1.0</td>\n      <td>0.0</td>\n      <td>0.0</td>\n      <td>0.0</td>\n      <td>0.0</td>\n      <td>0.0</td>\n      <td>0.0</td>\n      <td>0.0</td>\n      <td>0.0</td>\n    </tr>\n    <tr>\n      <th>1</th>\n      <td>1</td>\n      <td>14.17</td>\n      <td>13.3</td>\n      <td>6.96</td>\n      <td>1292.0</td>\n      <td>40.8</td>\n      <td>1.0</td>\n      <td>0.0</td>\n      <td>0.0</td>\n      <td>0.0</td>\n      <td>0.0</td>\n      <td>0.0</td>\n      <td>0.0</td>\n      <td>0.0</td>\n      <td>0.0</td>\n    </tr>\n  </tbody>\n</table>\n</div>"
     },
     "execution_count": 24,
     "metadata": {},
     "output_type": "execute_result"
    }
   ],
   "source": [
    "df.head(2)"
   ],
   "metadata": {
    "collapsed": false,
    "pycharm": {
     "name": "#%%\n"
    }
   }
  },
  {
   "cell_type": "code",
   "execution_count": 25,
   "outputs": [],
   "source": [
    "df=df.iloc[:,1:]"
   ],
   "metadata": {
    "collapsed": false,
    "pycharm": {
     "name": "#%%\n"
    }
   }
  },
  {
   "cell_type": "code",
   "execution_count": 26,
   "outputs": [
    {
     "data": {
      "text/plain": "   RefSt  Sensor  Gewicht  Raw_Feucht  Temp_grain  SommerDurumweizen  \\\n0  13.33    13.0     8.07      1214.0        40.6                1.0   \n1  14.17    13.3     6.96      1292.0        40.8                1.0   \n\n   SommerGerste  Weizen  WinterDurumweizen  WinterGerste  WinterRaps  \\\n0           0.0     0.0                0.0           0.0         0.0   \n1           0.0     0.0                0.0           0.0         0.0   \n\n   WinterRoggen  WinterTriticale  WinterWeizen  \n0           0.0              0.0           0.0  \n1           0.0              0.0           0.0  ",
      "text/html": "<div>\n<style scoped>\n    .dataframe tbody tr th:only-of-type {\n        vertical-align: middle;\n    }\n\n    .dataframe tbody tr th {\n        vertical-align: top;\n    }\n\n    .dataframe thead th {\n        text-align: right;\n    }\n</style>\n<table border=\"1\" class=\"dataframe\">\n  <thead>\n    <tr style=\"text-align: right;\">\n      <th></th>\n      <th>RefSt</th>\n      <th>Sensor</th>\n      <th>Gewicht</th>\n      <th>Raw_Feucht</th>\n      <th>Temp_grain</th>\n      <th>SommerDurumweizen</th>\n      <th>SommerGerste</th>\n      <th>Weizen</th>\n      <th>WinterDurumweizen</th>\n      <th>WinterGerste</th>\n      <th>WinterRaps</th>\n      <th>WinterRoggen</th>\n      <th>WinterTriticale</th>\n      <th>WinterWeizen</th>\n    </tr>\n  </thead>\n  <tbody>\n    <tr>\n      <th>0</th>\n      <td>13.33</td>\n      <td>13.0</td>\n      <td>8.07</td>\n      <td>1214.0</td>\n      <td>40.6</td>\n      <td>1.0</td>\n      <td>0.0</td>\n      <td>0.0</td>\n      <td>0.0</td>\n      <td>0.0</td>\n      <td>0.0</td>\n      <td>0.0</td>\n      <td>0.0</td>\n      <td>0.0</td>\n    </tr>\n    <tr>\n      <th>1</th>\n      <td>14.17</td>\n      <td>13.3</td>\n      <td>6.96</td>\n      <td>1292.0</td>\n      <td>40.8</td>\n      <td>1.0</td>\n      <td>0.0</td>\n      <td>0.0</td>\n      <td>0.0</td>\n      <td>0.0</td>\n      <td>0.0</td>\n      <td>0.0</td>\n      <td>0.0</td>\n      <td>0.0</td>\n    </tr>\n  </tbody>\n</table>\n</div>"
     },
     "execution_count": 26,
     "metadata": {},
     "output_type": "execute_result"
    }
   ],
   "source": [
    "df.head(2)"
   ],
   "metadata": {
    "collapsed": false,
    "pycharm": {
     "name": "#%%\n"
    }
   }
  },
  {
   "cell_type": "code",
   "execution_count": 27,
   "outputs": [
    {
     "data": {
      "text/plain": "Index(['RefSt', 'Sensor', 'Gewicht', 'Raw_Feucht', 'Temp_grain',\n       'SommerDurumweizen', 'SommerGerste', 'Weizen', 'WinterDurumweizen',\n       'WinterGerste', 'WinterRaps', 'WinterRoggen', 'WinterTriticale',\n       'WinterWeizen'],\n      dtype='object')"
     },
     "execution_count": 27,
     "metadata": {},
     "output_type": "execute_result"
    }
   ],
   "source": [
    "df.columns"
   ],
   "metadata": {
    "collapsed": false,
    "pycharm": {
     "name": "#%%\n"
    }
   }
  },
  {
   "cell_type": "code",
   "execution_count": 28,
   "outputs": [],
   "source": [
    "features=df[['Sensor', 'Gewicht', 'Raw_Feucht', 'Temp_grain', 'SommerDurumweizen', 'SommerGerste', 'Weizen', 'WinterDurumweizen',\n",
    "             'WinterGerste', 'WinterRaps', 'WinterRoggen', 'WinterTriticale', 'WinterWeizen']]\n",
    "\n",
    "X=features"
   ],
   "metadata": {
    "collapsed": false,
    "pycharm": {
     "name": "#%%\n"
    }
   }
  },
  {
   "cell_type": "code",
   "execution_count": 29,
   "outputs": [],
   "source": [
    "targets=df[['RefSt']]\n",
    "Y=targets"
   ],
   "metadata": {
    "collapsed": false,
    "pycharm": {
     "name": "#%%\n"
    }
   }
  },
  {
   "cell_type": "markdown",
   "source": [
    "### Split the Data (Prepare Data For Training)"
   ],
   "metadata": {
    "collapsed": false,
    "pycharm": {
     "name": "#%% md\n"
    }
   }
  },
  {
   "cell_type": "code",
   "execution_count": 33,
   "outputs": [],
   "source": [
    "X_train, X_test, Y_train, Y_test = train_test_split(X, Y, test_size=0.2, random_state=0)\n",
    "\n",
    "# scale the data\n",
    "scaler_x = StandardScaler()\n",
    "X_train_scaled = scaler_x.fit_transform(X_train)\n",
    "X_test_scaled = scaler_x.transform(X_test)\n",
    "\n",
    "scaler_y = StandardScaler()\n",
    "Y_train_scaled = scaler_y.fit_transform(Y_train)\n",
    "Y_test_scaled = scaler_y.transform(Y_test)"
   ],
   "metadata": {
    "collapsed": false,
    "pycharm": {
     "name": "#%%\n"
    }
   }
  },
  {
   "cell_type": "code",
   "execution_count": 34,
   "outputs": [
    {
     "name": "stdout",
     "output_type": "stream",
     "text": [
      "[2.47864708e+00 1.53953077e+00 1.48168945e+00 1.22221797e+00\n",
      " 1.12846318e+00 1.08748765e+00 1.06303589e+00 1.02042986e+00\n",
      " 8.35507875e-01 6.36663502e-01 4.98803549e-01 9.49322965e-03\n",
      " 1.46898305e-31]\n"
     ]
    }
   ],
   "source": [
    "# try PCA\n",
    "pca1 = PCA(n_components=13, random_state = RANDOM_STATE)\n",
    "X_temp = pca1.fit_transform(X_train_scaled[:,:])\n",
    "print(pca1.explained_variance_)"
   ],
   "metadata": {
    "collapsed": false,
    "pycharm": {
     "name": "#%%\n"
    }
   }
  },
  {
   "cell_type": "code",
   "execution_count": 35,
   "outputs": [
    {
     "name": "stdout",
     "output_type": "stream",
     "text": [
      "[2.47864708e+00 1.53953077e+00 1.48168945e+00 1.22221797e+00\n",
      " 1.12846318e+00 1.08748765e+00 1.06303589e+00 1.02042986e+00\n",
      " 8.35507875e-01 6.36663502e-01 4.98803549e-01 9.49322965e-03\n",
      " 1.46898305e-31]\n"
     ]
    }
   ],
   "source": [
    "# PCA\n",
    "n_components = 13\n",
    "\n",
    "DR = 'PCA'\n",
    "Cluster = 'None'\n",
    "pca = PCA(n_components=n_components, random_state = RANDOM_STATE)\n",
    "\n",
    "X_train_scaled_DR = pca.fit_transform(X_train_scaled)\n",
    "X_test_scaled_DR = pca.transform(X_test_scaled)\n",
    "\n",
    "X_train_scaled_DR = pd.DataFrame(X_train_scaled_DR)\n",
    "X_test_scaled_DR = pd.DataFrame(X_test_scaled_DR)\n",
    "print(pca.explained_variance_)\n",
    "\n",
    "# save pca model\n",
    "dir_DR = '../models/'\n",
    "if not os.path.exists(dir_DR):\n",
    "    os.mkdir(dir_DR)\n",
    "\n",
    "fn_DR = dir_DR + DR + '.sav'\n",
    "pickle.dump(pca, open(fn_DR, 'wb'))"
   ],
   "metadata": {
    "collapsed": false,
    "pycharm": {
     "name": "#%%\n"
    }
   }
  },
  {
   "cell_type": "code",
   "execution_count": 36,
   "outputs": [],
   "source": [
    "# scale the data again before NN\n",
    "scaler_x2 = StandardScaler()\n",
    "X_train_scaled_DR_scaled = scaler_x2.fit_transform(X_train_scaled_DR)\n",
    "X_test_scaled_DR_scaled = scaler_x2.transform(X_test_scaled_DR)"
   ],
   "metadata": {
    "collapsed": false,
    "pycharm": {
     "name": "#%%\n"
    }
   }
  },
  {
   "cell_type": "code",
   "execution_count": null,
   "outputs": [],
   "source": [],
   "metadata": {
    "collapsed": false,
    "pycharm": {
     "name": "#%%\n"
    }
   }
  },
  {
   "cell_type": "markdown",
   "source": [
    "### Model Start from here"
   ],
   "metadata": {
    "collapsed": false,
    "pycharm": {
     "name": "#%% md\n"
    }
   }
  },
  {
   "cell_type": "code",
   "execution_count": 298,
   "outputs": [],
   "source": [
    "hidden_layer_sizes=(64,128,256)\n",
    "\n",
    "activation ='relu'\n",
    "solver = 'adam'\n",
    "alpha=1e-4 # L2 penalty (regularization term) parameter, default 1e-5\n",
    "learning_rate = 'adaptive'\n",
    "early_stopping = True\n",
    "tol = 1e-4\n",
    "n_iter_no_change = 10\n",
    "\n",
    "\n",
    "# include layer structure and activation function\n",
    "if type(hidden_layer_sizes) == int: # single-layer case\n",
    "    hidden_layer_sizes_string = str(hidden_layer_sizes)\n",
    "else: # multi-layers case\n",
    "    hidden_layer_sizes_string = str(hidden_layer_sizes)[1:-1].replace(', ','_')\n",
    "\n",
    "structure = '_' + DR + str(n_components) + \\\n",
    "            '_' + hidden_layer_sizes_string + \\\n",
    "            '_' + activation"
   ],
   "metadata": {
    "collapsed": false,
    "pycharm": {
     "name": "#%%\n"
    }
   }
  },
  {
   "cell_type": "code",
   "execution_count": 299,
   "outputs": [
    {
     "name": "stderr",
     "output_type": "stream",
     "text": [
      "A column-vector y was passed when a 1d array was expected. Please change the shape of y to (n_samples, ), for example using ravel().\n"
     ]
    },
    {
     "name": "stdout",
     "output_type": "stream",
     "text": [
      "Iteration 1, loss = 0.18794174\n",
      "Validation score: 0.810153\n",
      "Iteration 2, loss = 0.10551911\n",
      "Validation score: 0.826598\n",
      "Iteration 3, loss = 0.09374574\n",
      "Validation score: 0.838840\n",
      "Iteration 4, loss = 0.08721738\n",
      "Validation score: 0.844194\n",
      "Iteration 5, loss = 0.08240517\n",
      "Validation score: 0.852330\n",
      "Iteration 6, loss = 0.07813900\n",
      "Validation score: 0.855814\n",
      "Iteration 7, loss = 0.07829939\n",
      "Validation score: 0.848655\n",
      "Iteration 8, loss = 0.07509388\n",
      "Validation score: 0.861179\n",
      "Iteration 9, loss = 0.07512654\n",
      "Validation score: 0.862718\n",
      "Iteration 10, loss = 0.07216787\n",
      "Validation score: 0.866856\n",
      "Iteration 11, loss = 0.07039919\n",
      "Validation score: 0.869984\n",
      "Iteration 12, loss = 0.06741375\n",
      "Validation score: 0.869292\n",
      "Iteration 13, loss = 0.06697429\n",
      "Validation score: 0.864959\n",
      "Iteration 14, loss = 0.06592583\n",
      "Validation score: 0.865913\n",
      "Iteration 15, loss = 0.06533192\n",
      "Validation score: 0.867571\n",
      "Iteration 16, loss = 0.06411969\n",
      "Validation score: 0.877207\n",
      "Iteration 17, loss = 0.06269562\n",
      "Validation score: 0.872712\n",
      "Iteration 18, loss = 0.06114846\n",
      "Validation score: 0.873234\n",
      "Iteration 19, loss = 0.06145307\n",
      "Validation score: 0.875947\n",
      "Iteration 20, loss = 0.06086225\n",
      "Validation score: 0.873360\n",
      "Iteration 21, loss = 0.06213678\n",
      "Validation score: 0.877992\n",
      "Iteration 22, loss = 0.05924646\n",
      "Validation score: 0.875694\n",
      "Iteration 23, loss = 0.05972051\n",
      "Validation score: 0.872793\n",
      "Iteration 24, loss = 0.05941845\n",
      "Validation score: 0.881113\n",
      "Iteration 25, loss = 0.05880896\n",
      "Validation score: 0.879366\n",
      "Iteration 26, loss = 0.05674713\n",
      "Validation score: 0.875913\n",
      "Iteration 27, loss = 0.05664237\n",
      "Validation score: 0.872196\n",
      "Iteration 28, loss = 0.05617169\n",
      "Validation score: 0.876076\n",
      "Iteration 29, loss = 0.05820176\n",
      "Validation score: 0.878054\n",
      "Iteration 30, loss = 0.05766703\n",
      "Validation score: 0.878233\n",
      "Iteration 31, loss = 0.05563788\n",
      "Validation score: 0.870879\n",
      "Iteration 32, loss = 0.05511715\n",
      "Validation score: 0.868863\n",
      "Iteration 33, loss = 0.05669615\n",
      "Validation score: 0.871110\n",
      "Iteration 34, loss = 0.05588241\n",
      "Validation score: 0.878706\n",
      "Iteration 35, loss = 0.05605939\n",
      "Validation score: 0.875422\n",
      "Validation score did not improve more than tol=0.000100 for 10 consecutive epochs. Stopping.\n",
      "--- 5.155881881713867 seconds ---\n"
     ]
    }
   ],
   "source": [
    "start_time = time.time()\n",
    "\n",
    "regr = MLPRegressor(random_state = RANDOM_STATE,\n",
    "                    hidden_layer_sizes = hidden_layer_sizes,\n",
    "                    activation = activation,\n",
    "                    solver = solver,\n",
    "                    alpha = alpha,\n",
    "                    learning_rate = learning_rate,\n",
    "                    verbose = True,\n",
    "                    early_stopping = early_stopping,\n",
    "                    tol = tol,\n",
    "                    momentum=0.9,\n",
    "                    n_iter_no_change = n_iter_no_change\n",
    "                    )\n",
    "regr.fit(X_train_scaled_DR_scaled, Y_train_scaled)\n",
    "\n",
    "print(\"--- %s seconds ---\" % (time.time() - start_time))"
   ],
   "metadata": {
    "collapsed": false,
    "pycharm": {
     "name": "#%%\n"
    }
   }
  },
  {
   "cell_type": "code",
   "execution_count": 300,
   "outputs": [
    {
     "name": "stdout",
     "output_type": "stream",
     "text": [
      "Iteration 36, loss = 0.05527303\n"
     ]
    },
    {
     "name": "stderr",
     "output_type": "stream",
     "text": [
      "A column-vector y was passed when a 1d array was expected. Please change the shape of y to (n_samples, ), for example using ravel().\n"
     ]
    },
    {
     "name": "stdout",
     "output_type": "stream",
     "text": [
      "Validation score: 0.901332\n",
      "Iteration 37, loss = 0.05457577\n",
      "Validation score: 0.901159\n",
      "Iteration 38, loss = 0.05430844\n",
      "Validation score: 0.900148\n",
      "Iteration 39, loss = 0.05407374\n",
      "Validation score: 0.900927\n",
      "Iteration 40, loss = 0.05397862\n",
      "Validation score: 0.900267\n",
      "Iteration 41, loss = 0.05386562\n",
      "Validation score: 0.899641\n",
      "Iteration 42, loss = 0.05358505\n",
      "Validation score: 0.899764\n",
      "Iteration 43, loss = 0.05379475\n",
      "Validation score: 0.899834\n",
      "Iteration 44, loss = 0.05350182\n",
      "Validation score: 0.899590\n",
      "Iteration 45, loss = 0.05340962\n",
      "Validation score: 0.899732\n",
      "Iteration 46, loss = 0.05326290\n",
      "Validation score: 0.899620\n",
      "Iteration 47, loss = 0.05326909\n",
      "Validation score: 0.900050\n",
      "Validation score did not improve more than tol=0.000100 for 10 consecutive epochs. Stopping.\n"
     ]
    },
    {
     "data": {
      "text/plain": "MLPRegressor(early_stopping=True, hidden_layer_sizes=(64, 128, 256),\n             learning_rate='adaptive', learning_rate_init=0.0001,\n             random_state=42, verbose=True, warm_start=True)"
     },
     "execution_count": 300,
     "metadata": {},
     "output_type": "execute_result"
    }
   ],
   "source": [
    "regr.warm_start = True\n",
    "regr.learning_rate_init /= 10 # default 0.001\n",
    "regr.fit(X_train_scaled_DR_scaled, Y_train_scaled)"
   ],
   "metadata": {
    "collapsed": false,
    "pycharm": {
     "name": "#%%\n"
    }
   }
  },
  {
   "cell_type": "code",
   "execution_count": 301,
   "outputs": [],
   "source": [
    "from sklearn.metrics import r2_score\n",
    "\n",
    "Y_train_pred = scaler_y.inverse_transform(\n",
    "    regr.predict( X_train_scaled_DR_scaled )\n",
    ") # for train\n",
    "# Y_train_pred = regr.predict( X_train_scaled_DR_scaled ) # for train\n",
    "train_score = r2_score(Y_train, Y_train_pred)\n",
    "\n",
    "Y_test_pred = scaler_y.inverse_transform(\n",
    "    regr.predict( X_test_scaled_DR_scaled )\n",
    ")# for test\n",
    "# Y_test_pred = regr.predict( X_test_scaled_DR_scaled )# for test\n",
    "test_score = r2_score(Y_test, Y_test_pred)"
   ],
   "metadata": {
    "collapsed": false,
    "pycharm": {
     "name": "#%%\n"
    }
   }
  },
  {
   "cell_type": "code",
   "execution_count": 302,
   "outputs": [
    {
     "name": "stdout",
     "output_type": "stream",
     "text": [
      "0.8131231552779805\n",
      "0.8902561470416266\n"
     ]
    }
   ],
   "source": [
    "print(test_score)\n",
    "print(train_score)"
   ],
   "metadata": {
    "collapsed": false,
    "pycharm": {
     "name": "#%%\n"
    }
   }
  },
  {
   "cell_type": "code",
   "execution_count": 278,
   "outputs": [
    {
     "data": {
      "text/plain": "      Actual  Predicted\n8222   12.46  12.313740\n4832   11.42  11.660157\n1817   11.74  12.088886\n5663   12.67  12.568419\n6488   18.41  15.416769",
      "text/html": "<div>\n<style scoped>\n    .dataframe tbody tr th:only-of-type {\n        vertical-align: middle;\n    }\n\n    .dataframe tbody tr th {\n        vertical-align: top;\n    }\n\n    .dataframe thead th {\n        text-align: right;\n    }\n</style>\n<table border=\"1\" class=\"dataframe\">\n  <thead>\n    <tr style=\"text-align: right;\">\n      <th></th>\n      <th>Actual</th>\n      <th>Predicted</th>\n    </tr>\n  </thead>\n  <tbody>\n    <tr>\n      <th>8222</th>\n      <td>12.46</td>\n      <td>12.313740</td>\n    </tr>\n    <tr>\n      <th>4832</th>\n      <td>11.42</td>\n      <td>11.660157</td>\n    </tr>\n    <tr>\n      <th>1817</th>\n      <td>11.74</td>\n      <td>12.088886</td>\n    </tr>\n    <tr>\n      <th>5663</th>\n      <td>12.67</td>\n      <td>12.568419</td>\n    </tr>\n    <tr>\n      <th>6488</th>\n      <td>18.41</td>\n      <td>15.416769</td>\n    </tr>\n  </tbody>\n</table>\n</div>"
     },
     "execution_count": 278,
     "metadata": {},
     "output_type": "execute_result"
    }
   ],
   "source": [
    "df_temp = pd.DataFrame({'Actual': Y_test['RefSt'], 'Predicted': Y_test_pred})\n",
    "df_temp.head()"
   ],
   "metadata": {
    "collapsed": false,
    "pycharm": {
     "name": "#%%\n"
    }
   }
  },
  {
   "cell_type": "code",
   "execution_count": 308,
   "outputs": [
    {
     "name": "stdout",
     "output_type": "stream",
     "text": [
      "Loss functions:\n",
      "* R-squared = 0.8131231552779805\n",
      "* RMSE = 0.6202124233085671\n",
      "* MAE = 0.5048784635662016\n"
     ]
    }
   ],
   "source": [
    "loss_functions(Y_test,Y_test_pred)"
   ],
   "metadata": {
    "collapsed": false,
    "pycharm": {
     "name": "#%%\n"
    }
   }
  },
  {
   "cell_type": "code",
   "execution_count": 313,
   "outputs": [
    {
     "data": {
      "text/plain": "0.029439696106362774"
     },
     "execution_count": 313,
     "metadata": {},
     "output_type": "execute_result"
    }
   ],
   "source": [
    "#Normalised RMSE\n",
    "0.62/max(df['RefSt']-min(df['RefSt']))"
   ],
   "metadata": {
    "collapsed": false,
    "pycharm": {
     "name": "#%%\n"
    }
   }
  },
  {
   "cell_type": "code",
   "execution_count": 304,
   "outputs": [
    {
     "data": {
      "text/plain": "<Figure size 1080x1872 with 1 Axes>",
      "image/png": "[encoded data removed]"
     },
     "metadata": {
      "needs_background": "light"
     },
     "output_type": "display_data"
    },
    {
     "name": "stdout",
     "output_type": "stream",
     "text": [
      "Loss functions:\n",
      "* R-squared = 0.8131231552779805\n",
      "* RMSE = 0.6202124233085671\n",
      "* MAE = 0.5048784635662016\n"
     ]
    }
   ],
   "source": [
    "#This is the actual. vs. predicted\n",
    "\n",
    "f_temp = df_temp.head(30)\n",
    "df_temp.plot(kind='bar',figsize=(15,26))\n",
    "plt.grid(which='major', linestyle='-', linewidth='0.5', color='green')\n",
    "plt.grid(which='minor', linestyle=':', linewidth='0.5', color='black')\n",
    "plt.xlim(0,51)\n",
    "plt.ylim(0,17.5)\n",
    "plt.show()\n",
    "\n",
    "loss_functions(Y_test,Y_test_pred)"
   ],
   "metadata": {
    "collapsed": false,
    "pycharm": {
     "name": "#%%\n"
    }
   }
  },
  {
   "cell_type": "code",
   "execution_count": 284,
   "outputs": [],
   "source": [
    "# flatten\n",
    "Y_train_flatten = Y_train.values.flatten()\n",
    "Y_train_pred_flatten = Y_train_pred.flatten()\n",
    "\n",
    "Y_test_flatten = Y_test.values.flatten()\n",
    "Y_test_pred_flatten = Y_test_pred.flatten()\n",
    "\n",
    "Y_min = 0 # np.min(Y_train_flatten)\n",
    "Y_max = np.mean(Y_train_flatten) + 5*np.std(Y_train_flatten)\n",
    "\n",
    "y_line = np.linspace(Y_min,Y_max,100)\n"
   ],
   "metadata": {
    "collapsed": false,
    "pycharm": {
     "name": "#%%\n"
    }
   }
  },
  {
   "cell_type": "code",
   "execution_count": 305,
   "outputs": [
    {
     "data": {
      "text/plain": "<Figure size 576x576 with 1 Axes>",
      "image/png": "[encoded data removed]"
     },
     "metadata": {
      "needs_background": "light"
     },
     "output_type": "display_data"
    }
   ],
   "source": [
    "plt.rcParams[\"figure.figsize\"] = (8, 8) # (w, h)\n",
    "plt.rcParams.update({'font.size': 20})\n",
    "fig, ax = plt.subplots()\n",
    "plt.plot(y_line,y_line, '-k', label='y=x')\n",
    "id_train = np.random.choice(len(Y_train_flatten), 5000, replace = True)\n",
    "plt.scatter(Y_train_flatten[id_train], Y_train_pred_flatten[id_train], s=3, c = 'blue',label = 'Train, R$^{2}$ ='+str(train_score)[:6])\n",
    "\n",
    "id_test = np.random.choice(len(Y_test_flatten), 5000, replace = True)\n",
    "plt.scatter(Y_test_flatten[id_test], Y_test_pred_flatten[id_test], s=3, c = 'red', label = 'Test, R$^{2}$ ='+str(test_score)[:6])\n",
    "\n",
    "plt.xlim(9E-1, )\n",
    "plt.ylim(9E-1, )\n",
    "\n",
    "\n",
    "ax.set_title('Estimated vs Actual for Whole Spectrum')\n",
    "ax.set_xlabel('Actual Value $(W/m^2/nm)$')\n",
    "ax.set_ylabel('Predicted Value $(W/m^2/nm)$')\n",
    "plt.xscale('log')\n",
    "plt.yscale('log')\n",
    "plt.legend( loc='lower right')\n",
    "plt.grid()\n",
    "plt.tight_layout()"
   ],
   "metadata": {
    "collapsed": false,
    "pycharm": {
     "name": "#%%\n"
    }
   }
  },
  {
   "cell_type": "code",
   "execution_count": 306,
   "outputs": [],
   "source": [
    "Y_train_flatten_sorted = np.sort(Y_train_flatten)\n",
    "Y_train_pred_flatten_sorted = np.sort(Y_train_pred_flatten)\n",
    "\n",
    "Y_test_flatten_sorted = np.sort(Y_test_flatten)\n",
    "Y_test_pred_flatten_sorted = np.sort(Y_test_pred_flatten)"
   ],
   "metadata": {
    "collapsed": false,
    "pycharm": {
     "name": "#%%\n"
    }
   }
  },
  {
   "cell_type": "code",
   "execution_count": 307,
   "outputs": [
    {
     "data": {
      "text/plain": "<Figure size 720x792 with 1 Axes>",
      "image/png": "[encoded data removed]"
     },
     "metadata": {
      "needs_background": "light"
     },
     "output_type": "display_data"
    }
   ],
   "source": [
    "Y_min = 0 # np.min(Y_train_flatten)\n",
    "Y_max = np.mean(Y_train_flatten) + 5*np.std(Y_train_flatten)\n",
    "y_line = np.linspace(Y_min,Y_max,100)\n",
    "\n",
    "\n",
    "plt.rcParams[\"figure.figsize\"] = (10, 11) # (w, h)\n",
    "plt.rcParams.update({'font.size': 20})\n",
    "fig, ax = plt.subplots()\n",
    "plt.plot(y_line,y_line, '-k', label='y=x')\n",
    "\n",
    "id_train = np.random.choice(len(Y_train_flatten_sorted), 2000, replace = True)\n",
    "plt.scatter(Y_train_flatten_sorted[id_train], Y_train_pred_flatten_sorted[id_train], s=100, c = 'blue',\n",
    "            marker = '+', label = 'Quantile-Quantile Train')\n",
    "\n",
    "id_test = np.random.choice(len(Y_test_flatten_sorted), 2000, replace = True)\n",
    "plt.scatter(Y_test_flatten_sorted[id_test], Y_test_pred_flatten_sorted[id_test], s=30, c = 'red',\n",
    "            marker = '+', label = 'Quantile-Quantile Test')\n",
    "plt.xlim(10E0, )\n",
    "plt.ylim(10E0, )\n",
    "\n",
    "# x_25 = Y_test_flatten_sorted[Y_test_flatten_sorted.size//4]\n",
    "# y_25 = Y_test_pred_flatten_sorted[Y_test_pred_flatten_sorted.size//4]\n",
    "# x_50 = Y_test_flatten_sorted[Y_test_flatten_sorted.size//2]\n",
    "# y_50 = Y_test_pred_flatten_sorted[Y_test_pred_flatten_sorted.size//2]\n",
    "# x_75 = Y_test_flatten_sorted[Y_test_flatten_sorted.size//4*3]\n",
    "# y_75 = Y_test_pred_flatten_sorted[Y_test_pred_flatten_sorted.size//4*3]\n",
    "# plt.text(x_25, y_25, '25', c ='blue', ha = 'center', va = 'center')\n",
    "# plt.text(x_50, y_50, '50', c ='blue', ha = 'center', va = 'center')\n",
    "# plt.text(x_75, y_75, '75', c ='blue', ha = 'center', va = 'center')\n",
    "\n",
    "ax.set_title('Quantile-Quantile Plot')\n",
    "ax.set_xlabel('Actual Value $(W/m^2/nm)$')\n",
    "ax.set_ylabel('Estimated Value $(W/m^2/nm)$')\n",
    "\n",
    "plt.xscale('log')\n",
    "plt.yscale('log')\n",
    "plt.grid()\n",
    "plt.legend( loc='lower right')\n",
    "\n",
    "plt.tight_layout()"
   ],
   "metadata": {
    "collapsed": false,
    "pycharm": {
     "name": "#%%\n"
    }
   }
  },
  {
   "cell_type": "code",
   "execution_count": 159,
   "outputs": [],
   "source": [],
   "metadata": {
    "collapsed": false,
    "pycharm": {
     "name": "#%%\n"
    }
   }
  },
  {
   "cell_type": "code",
   "execution_count": 159,
   "outputs": [],
   "source": [],
   "metadata": {
    "collapsed": false,
    "pycharm": {
     "name": "#%%\n"
    }
   }
  },
  {
   "cell_type": "code",
   "execution_count": 158,
   "outputs": [
    {
     "name": "stderr",
     "output_type": "stream",
     "text": [
      "Using 200 background data samples could cause slower run times. Consider using shap.sample(data, K) or shap.kmeans(data, K) to summarize the background as K samples.\n"
     ]
    },
    {
     "data": {
      "text/plain": "HBox(children=(HTML(value=''), FloatProgress(value=0.0, max=200.0), HTML(value='')))",
      "application/vnd.jupyter.widget-view+json": {
       "version_major": 2,
       "version_minor": 0,
       "model_id": "44f30986ac99481e866b6e700f284e49"
      }
     },
     "metadata": {},
     "output_type": "display_data"
    },
    {
     "name": "stdout",
     "output_type": "stream",
     "text": [
      "\n"
     ]
    }
   ],
   "source": [
    "# Create object that can calculate shap values\n",
    "num_shap = 200\n",
    "explainer = shap.KernelExplainer(regr.predict, X_train_scaled_DR_scaled[:num_shap])\n",
    "# Calculate shap_values\n",
    "shap_values_multi_DR_Yscaled = explainer.shap_values(X_train_scaled_DR_scaled[:num_shap]) # 421 x num_shap x n_components"
   ],
   "metadata": {
    "collapsed": false,
    "pycharm": {
     "name": "#%%\n"
    }
   }
  },
  {
   "cell_type": "code",
   "execution_count": 172,
   "outputs": [
    {
     "data": {
      "text/plain": "array([[ 0.75239488,  0.14656145, -0.00629298, ..., -0.04264576,\n         0.00527072,  1.06856562],\n       [-1.27271479,  0.00968771,  0.30035708, ..., -0.25803699,\n        -0.34582446,  1.16131936],\n       [ 0.01563886,  0.00945226,  0.16613016, ...,  0.45186011,\n        -0.08560002,  0.23931635],\n       ...,\n       [-0.68929429,  0.10565808, -0.0078058 , ..., -0.08945897,\n        -0.01647077, -0.01115132],\n       [-0.23929881, -0.00375846, -0.03445733, ..., -0.00704719,\n        -0.00492244, -0.00418665],\n       [ 0.22795583,  0.18283569,  0.06911658, ..., -0.03750922,\n         0.06344282,  0.00334783]])"
     },
     "execution_count": 172,
     "metadata": {},
     "output_type": "execute_result"
    }
   ],
   "source": [
    "shap_values_multi_DR_Yscaled"
   ],
   "metadata": {
    "collapsed": false,
    "pycharm": {
     "name": "#%%\n"
    }
   }
  },
  {
   "cell_type": "markdown",
   "source": [],
   "metadata": {
    "collapsed": false
   }
  },
  {
   "cell_type": "code",
   "execution_count": 183,
   "outputs": [
    {
     "data": {
      "text/plain": "<Figure size 576x482.4 with 1 Axes>",
      "image/png": "[encoded data removed]"
     },
     "metadata": {
      "needs_background": "light"
     },
     "output_type": "display_data"
    }
   ],
   "source": [
    "shap.summary_plot(shap_values_multi_DR_Yscaled)"
   ],
   "metadata": {
    "collapsed": false,
    "pycharm": {
     "name": "#%%\n"
    }
   }
  },
  {
   "cell_type": "code",
   "execution_count": 184,
   "outputs": [],
   "source": [
    "import matplotlib as mpl\n",
    "import matplotlib.cm as cm"
   ],
   "metadata": {
    "collapsed": false,
    "pycharm": {
     "name": "#%%\n"
    }
   }
  },
  {
   "cell_type": "markdown",
   "source": [
    "importances_DR = np.mean(np.abs(shap_values_DR_Yscaled), axis = 0)\n",
    "indices = np.argsort(importances_DR)\n",
    "\n",
    "# color positive/negative impact blue/red\n",
    "colormap = {1:'red',-1:'blue', 0:'grey'}\n",
    "impacts = np.array([])\n",
    "corrcoef = np.array([])\n",
    "sign = np.array([])\n",
    "for i in range(n_components):\n",
    "    impact_i = (shap_values_DR[:,i]*np.sign(X_train_scaled_DR_scaled[:num_shap,i] - X_train_scaled_DR_scaled[:num_shap, i].mean() )).mean()\n",
    "    impacts = np.append(impacts, impact_i)\n",
    "\n",
    "    corrcoef_i = np.corrcoef(X_train_scaled_DR_scaled[:,i], Y_train_pred.mean(axis = 1))[0,1]\n",
    "    corrcoef = np.append(corrcoef, corrcoef_i)\n",
    "\n",
    "    sign_i = np.sign(corrcoef_i)\n",
    "    sign = np.append(sign, sign_i)\n",
    "\n",
    "sign = sign[indices]\n",
    "impacts = impacts[indices]\n",
    "corrcoef = corrcoef[indices]\n",
    "\n",
    "# norm = mpl.colors.SymLogNorm(10, vmin=0, vmax=+0.05)\n",
    "norm = mpl.colors.Normalize(vmin=-1, vmax=+1)\n",
    "cmap = cm.get_cmap('RdBu_r')\n",
    "m = cm.ScalarMappable(norm=norm, cmap=cmap)\n",
    "\n",
    "color = [colormap[val] for val in sign]\n",
    "# color = [m.to_rgba(val) for val in impacts]\n",
    "# color = [m.to_rgba(val) for val in corrcoef]\n",
    "\n",
    "shap.summary_plot(shap_values_DR, X_train_scaled_DR_scaled[:num_shap],\n",
    "                  feature_names = ['PC ' + str(i) for i in range(num_features)],\n",
    "                  plot_size=(8,max_display/2.5),#'auto'\n",
    "                  color = color,\n",
    "                  max_display = max_display,\n",
    "                  show = False,\n",
    "                  plot_type = 'bar'\n",
    "                  )\n",
    "\n",
    "plt.xscale(\"log\")\n",
    "plt.title(DR + ' Feature Importances for Whole Spectrum', fontsize = 20)\n",
    "plt.tight_layout()"
   ],
   "metadata": {
    "collapsed": false,
    "pycharm": {
     "name": "#%% md\n"
    }
   }
  },
  {
   "cell_type": "code",
   "execution_count": 189,
   "outputs": [],
   "source": [],
   "metadata": {
    "collapsed": false,
    "pycharm": {
     "name": "#%%\n"
    }
   }
  },
  {
   "cell_type": "markdown",
   "source": [
    "### Ridge Regression"
   ],
   "metadata": {
    "collapsed": false,
    "pycharm": {
     "name": "#%% md\n"
    }
   }
  },
  {
   "cell_type": "code",
   "execution_count": 324,
   "outputs": [],
   "source": [
    "from numpy import mean\n",
    "from numpy import std\n",
    "from numpy import absolute\n",
    "from pandas import read_csv\n",
    "from sklearn.model_selection import cross_val_score\n",
    "from sklearn.model_selection import RepeatedKFold\n",
    "from sklearn.linear_model import Ridge"
   ],
   "metadata": {
    "collapsed": false,
    "pycharm": {
     "name": "#%%\n"
    }
   }
  },
  {
   "cell_type": "code",
   "execution_count": 361,
   "outputs": [],
   "source": [
    "model = Ridge(alpha=1.0)"
   ],
   "metadata": {
    "collapsed": false,
    "pycharm": {
     "name": "#%%\n"
    }
   }
  },
  {
   "cell_type": "code",
   "execution_count": 326,
   "outputs": [],
   "source": [
    "cv = RepeatedKFold(n_splits=10, n_repeats=3, random_state=1)"
   ],
   "metadata": {
    "collapsed": false,
    "pycharm": {
     "name": "#%%\n"
    }
   }
  },
  {
   "cell_type": "code",
   "execution_count": 328,
   "outputs": [],
   "source": [
    "scores = cross_val_score(model, X_train, Y_train, scoring='neg_mean_absolute_error', cv=cv, n_jobs=-1)"
   ],
   "metadata": {
    "collapsed": false,
    "pycharm": {
     "name": "#%%\n"
    }
   }
  },
  {
   "cell_type": "code",
   "execution_count": 329,
   "outputs": [
    {
     "name": "stdout",
     "output_type": "stream",
     "text": [
      "Mean MAE: 0.694 (0.025)\n"
     ]
    }
   ],
   "source": [
    "scores = absolute(scores)\n",
    "print('Mean MAE: %.3f (%.3f)' % (mean(scores), std(scores)))"
   ],
   "metadata": {
    "collapsed": false,
    "pycharm": {
     "name": "#%%\n"
    }
   }
  },
  {
   "cell_type": "code",
   "execution_count": 331,
   "outputs": [
    {
     "data": {
      "text/plain": "RepeatedKFold(n_repeats=3, n_splits=10, random_state=1)"
     },
     "execution_count": 331,
     "metadata": {},
     "output_type": "execute_result"
    }
   ],
   "source": [
    "cv"
   ],
   "metadata": {
    "collapsed": false,
    "pycharm": {
     "name": "#%%\n"
    }
   }
  },
  {
   "cell_type": "code",
   "execution_count": 333,
   "outputs": [
    {
     "data": {
      "text/plain": "Ridge()"
     },
     "execution_count": 333,
     "metadata": {},
     "output_type": "execute_result"
    }
   ],
   "source": [
    "model.fit(X_train, Y_train)"
   ],
   "metadata": {
    "collapsed": false,
    "pycharm": {
     "name": "#%%\n"
    }
   }
  },
  {
   "cell_type": "code",
   "execution_count": 334,
   "outputs": [],
   "source": [
    "yhat = model.predict(X_test)"
   ],
   "metadata": {
    "collapsed": false,
    "pycharm": {
     "name": "#%%\n"
    }
   }
  },
  {
   "cell_type": "code",
   "execution_count": 335,
   "outputs": [
    {
     "data": {
      "text/plain": "array([[12.59637813],\n       [11.58261285],\n       [11.88824719],\n       ...,\n       [15.94594955],\n       [11.78361031],\n       [13.21787817]])"
     },
     "execution_count": 335,
     "metadata": {},
     "output_type": "execute_result"
    }
   ],
   "source": [
    "yhat"
   ],
   "metadata": {
    "collapsed": false,
    "pycharm": {
     "name": "#%%\n"
    }
   }
  },
  {
   "cell_type": "code",
   "execution_count": 336,
   "outputs": [
    {
     "data": {
      "text/plain": "      RefSt\n8222  12.46\n4832  11.42\n1817  11.74\n5663  12.67\n6488  18.41\n...     ...\n1718  12.57\n6694  13.17\n5609  15.80\n1292  12.31\n3136  12.86\n\n[1651 rows x 1 columns]",
      "text/html": "<div>\n<style scoped>\n    .dataframe tbody tr th:only-of-type {\n        vertical-align: middle;\n    }\n\n    .dataframe tbody tr th {\n        vertical-align: top;\n    }\n\n    .dataframe thead th {\n        text-align: right;\n    }\n</style>\n<table border=\"1\" class=\"dataframe\">\n  <thead>\n    <tr style=\"text-align: right;\">\n      <th></th>\n      <th>RefSt</th>\n    </tr>\n  </thead>\n  <tbody>\n    <tr>\n      <th>8222</th>\n      <td>12.46</td>\n    </tr>\n    <tr>\n      <th>4832</th>\n      <td>11.42</td>\n    </tr>\n    <tr>\n      <th>1817</th>\n      <td>11.74</td>\n    </tr>\n    <tr>\n      <th>5663</th>\n      <td>12.67</td>\n    </tr>\n    <tr>\n      <th>6488</th>\n      <td>18.41</td>\n    </tr>\n    <tr>\n      <th>...</th>\n      <td>...</td>\n    </tr>\n    <tr>\n      <th>1718</th>\n      <td>12.57</td>\n    </tr>\n    <tr>\n      <th>6694</th>\n      <td>13.17</td>\n    </tr>\n    <tr>\n      <th>5609</th>\n      <td>15.80</td>\n    </tr>\n    <tr>\n      <th>1292</th>\n      <td>12.31</td>\n    </tr>\n    <tr>\n      <th>3136</th>\n      <td>12.86</td>\n    </tr>\n  </tbody>\n</table>\n<p>1651 rows × 1 columns</p>\n</div>"
     },
     "execution_count": 336,
     "metadata": {},
     "output_type": "execute_result"
    }
   ],
   "source": [
    "Y_test"
   ],
   "metadata": {
    "collapsed": false,
    "pycharm": {
     "name": "#%%\n"
    }
   }
  },
  {
   "cell_type": "code",
   "execution_count": 337,
   "outputs": [
    {
     "name": "stdout",
     "output_type": "stream",
     "text": [
      "Loss functions:\n",
      "* R-squared = 0.6006895919219286\n",
      "* RMSE = 1.0151793448697986\n",
      "* MAE = 0.6778548330822047\n"
     ]
    }
   ],
   "source": [
    "loss_functions(yhat,Y_test)"
   ],
   "metadata": {
    "collapsed": false,
    "pycharm": {
     "name": "#%%\n"
    }
   }
  },
  {
   "cell_type": "code",
   "execution_count": 349,
   "outputs": [
    {
     "name": "stdout",
     "output_type": "stream",
     "text": [
      "R2: 0.734\n",
      "Config: {'alpha': 0.01}\n"
     ]
    }
   ],
   "source": [
    "# define grid\n",
    "grid = dict()\n",
    "grid['alpha'] = np.arange(0, 1, 0.01)\n",
    "# define search\n",
    "search = GridSearchCV(model, grid, scoring='r2', cv=cv, n_jobs=-1)\n",
    "# perform the search\n",
    "results = search.fit(X_train, Y_train)\n",
    "# summarize\n",
    "print('R2: %.3f' % results.best_score_)\n",
    "print('Config: %s' % results.best_params_)"
   ],
   "metadata": {
    "collapsed": false,
    "pycharm": {
     "name": "#%%\n"
    }
   }
  },
  {
   "cell_type": "code",
   "execution_count": 353,
   "outputs": [
    {
     "name": "stdout",
     "output_type": "stream",
     "text": [
      "MAE: -0.693\n",
      "Config: {'alpha': 0.01}\n"
     ]
    }
   ],
   "source": [
    "# define grid\n",
    "grid = dict()\n",
    "grid['alpha'] = np.arange(0, 1, 0.01)\n",
    "# define search\n",
    "search = GridSearchCV(model, grid, scoring='neg_mean_absolute_error', cv=cv, n_jobs=-1)\n",
    "# perform the search\n",
    "results = search.fit(X_train, Y_train)\n",
    "# summarize\n",
    "print('MAE: %.3f' % results.best_score_)\n",
    "print('Config: %s' % results.best_params_)"
   ],
   "metadata": {
    "collapsed": false,
    "pycharm": {
     "name": "#%%\n"
    }
   }
  },
  {
   "cell_type": "code",
   "execution_count": 356,
   "outputs": [
    {
     "name": "stderr",
     "output_type": "stream",
     "text": [
      "Ill-conditioned matrix (rcond=1.30744e-22): result may not be accurate.\n",
      "Ill-conditioned matrix (rcond=1.78444e-23): result may not be accurate.\n",
      "Ill-conditioned matrix (rcond=5.78205e-22): result may not be accurate.\n",
      "Ill-conditioned matrix (rcond=7.16497e-22): result may not be accurate.\n",
      "Ill-conditioned matrix (rcond=1.03631e-21): result may not be accurate.\n",
      "Ill-conditioned matrix (rcond=8.78515e-22): result may not be accurate.\n",
      "Ill-conditioned matrix (rcond=8.37379e-22): result may not be accurate.\n",
      "Ill-conditioned matrix (rcond=3.20755e-22): result may not be accurate.\n",
      "Ill-conditioned matrix (rcond=7.26325e-22): result may not be accurate.\n",
      "Ill-conditioned matrix (rcond=6.84487e-22): result may not be accurate.\n",
      "Ill-conditioned matrix (rcond=5.26821e-22): result may not be accurate.\n",
      "Ill-conditioned matrix (rcond=1.32848e-21): result may not be accurate.\n"
     ]
    },
    {
     "name": "stdout",
     "output_type": "stream",
     "text": [
      "alpha: 0.010000\n"
     ]
    }
   ],
   "source": [
    "# use automatically configured the ridge regression algorithm\n",
    "\n",
    "from sklearn.linear_model import RidgeCV\n",
    "model = RidgeCV(alphas=np.arange(0, 1, 0.01), cv=cv, scoring='neg_mean_absolute_error')\n",
    "# fit model\n",
    "model.fit(X_train, Y_train)\n",
    "# summarize chosen configuration\n",
    "print('alpha: %f' % model.alpha_)"
   ],
   "metadata": {
    "collapsed": false,
    "pycharm": {
     "name": "#%%\n"
    }
   }
  },
  {
   "cell_type": "code",
   "execution_count": 358,
   "outputs": [],
   "source": [
    "yhat = model.predict(X_test)"
   ],
   "metadata": {
    "collapsed": false,
    "pycharm": {
     "name": "#%%\n"
    }
   }
  },
  {
   "cell_type": "code",
   "execution_count": 363,
   "outputs": [
    {
     "name": "stdout",
     "output_type": "stream",
     "text": [
      "Loss functions:\n",
      "* R-squared = 0.6038577683014202\n",
      "* RMSE = 1.009122882935659\n",
      "* MAE = 0.6772208250770999\n"
     ]
    }
   ],
   "source": [
    "# once again for my choosed parameters\n",
    "model=Ridge(alpha=0.01)\n",
    "model.fit(X_train,Y_train)\n",
    "yhat=model.predict(X_test)\n",
    "loss_functions(yhat,Y_test)"
   ],
   "metadata": {
    "collapsed": false,
    "pycharm": {
     "name": "#%%\n"
    }
   }
  },
  {
   "cell_type": "markdown",
   "source": [
    "\n",
    "### Gaussian Process Regression"
   ],
   "metadata": {
    "collapsed": false,
    "pycharm": {
     "name": "#%% md\n"
    }
   }
  },
  {
   "cell_type": "code",
   "execution_count": 64,
   "outputs": [],
   "source": [
    "from sklearn.gaussian_process.kernels import DotProduct, WhiteKernel, RBF, Matern, RationalQuadratic\n",
    "from sklearn.model_selection import KFold"
   ],
   "metadata": {
    "collapsed": false,
    "pycharm": {
     "name": "#%%\n"
    }
   }
  },
  {
   "cell_type": "code",
   "execution_count": 56,
   "outputs": [],
   "source": [
    "kernel = DotProduct() + WhiteKernel() + 10 * RBF(1, (1e-2, 1e2))"
   ],
   "metadata": {
    "collapsed": false,
    "pycharm": {
     "name": "#%%\n"
    }
   }
  },
  {
   "cell_type": "code",
   "execution_count": 57,
   "outputs": [],
   "source": [
    "from sklearn.gaussian_process import GaussianProcessRegressor\n",
    "regressor = GaussianProcessRegressor(kernel=kernel)"
   ],
   "metadata": {
    "collapsed": false,
    "pycharm": {
     "name": "#%%\n"
    }
   }
  },
  {
   "cell_type": "code",
   "execution_count": 58,
   "outputs": [
    {
     "data": {
      "text/plain": "GaussianProcessRegressor(kernel=DotProduct(sigma_0=1) + WhiteKernel(noise_level=1) + 3.16**2 * RBF(length_scale=1))"
     },
     "execution_count": 58,
     "metadata": {},
     "output_type": "execute_result"
    }
   ],
   "source": [
    "regressor.fit(X_train_scaled_DR_scaled, Y_train_scaled)"
   ],
   "metadata": {
    "collapsed": false,
    "pycharm": {
     "name": "#%%\n"
    }
   }
  },
  {
   "cell_type": "code",
   "execution_count": 59,
   "outputs": [],
   "source": [
    "y_hat=regressor.predict(X_test_scaled_DR_scaled)"
   ],
   "metadata": {
    "collapsed": false,
    "pycharm": {
     "name": "#%%\n"
    }
   }
  },
  {
   "cell_type": "code",
   "execution_count": 60,
   "outputs": [
    {
     "name": "stdout",
     "output_type": "stream",
     "text": [
      "Loss functions:\n",
      "* R-squared = 0.7884638185309023\n",
      "* RMSE = 0.1624469538984776\n",
      "* MAE = 0.26071810129729733\n"
     ]
    }
   ],
   "source": [
    "loss_functions(y_hat,Y_test_scaled)"
   ],
   "metadata": {
    "collapsed": false,
    "pycharm": {
     "name": "#%%\n"
    }
   }
  },
  {
   "cell_type": "code",
   "execution_count": 65,
   "outputs": [
    {
     "name": "stdout",
     "output_type": "stream",
     "text": [
      "GaussianProcessRegressor(alpha=0.0001,\n",
      "                         kernel=DotProduct(sigma_0=1) + WhiteKernel(noise_level=1) + 3.16**2 * RBF(length_scale=1))\n"
     ]
    }
   ],
   "source": [
    "\n",
    "gp = GaussianProcessRegressor(kernel=kernel)\n",
    "parameters = {'alpha':[0.0001,0.0003,0.001,0.003,0.01,0.03,0.1,0.3,1,3,10]}\n",
    "cv_obj = KFold(n_splits=5)\n",
    "regr = GridSearchCV(gp,parameters,cv=cv_obj,n_jobs=8,refit=True)\n",
    "regr.fit(X_train_scaled_DR_scaled, Y_train_scaled)\n",
    "print(regr.best_estimator_)"
   ],
   "metadata": {
    "collapsed": false,
    "pycharm": {
     "name": "#%%\n"
    }
   }
  },
  {
   "cell_type": "code",
   "execution_count": 69,
   "outputs": [],
   "source": [
    "y_hat=regr.predict(X_test_scaled_DR_scaled)"
   ],
   "metadata": {
    "collapsed": false,
    "pycharm": {
     "name": "#%%\n"
    }
   }
  },
  {
   "cell_type": "code",
   "execution_count": 70,
   "outputs": [
    {
     "name": "stdout",
     "output_type": "stream",
     "text": [
      "Loss functions:\n",
      "* R-squared = 0.7884638701904878\n",
      "* RMSE = 0.16244694887914635\n",
      "* MAE = 0.26071768475451923\n"
     ]
    }
   ],
   "source": [
    "loss_functions(y_hat,Y_test_scaled)"
   ],
   "metadata": {
    "collapsed": false,
    "pycharm": {
     "name": "#%%\n"
    }
   }
  },
  {
   "cell_type": "code",
   "execution_count": 71,
   "outputs": [],
   "source": [
    "#Now try with the above CV\n",
    "regressor = GaussianProcessRegressor(alpha=0.0001,\n",
    "                                     kernel=DotProduct(sigma_0=1) + WhiteKernel(noise_level=1) + 3.16**2 * RBF(length_scale=1))\n"
   ],
   "metadata": {
    "collapsed": false,
    "pycharm": {
     "name": "#%%\n"
    }
   }
  },
  {
   "cell_type": "code",
   "execution_count": 72,
   "outputs": [],
   "source": [
    "regressor.fit(X_train_scaled_DR_scaled, Y_train_scaled)\n",
    "y_hat=regressor.predict(X_test_scaled_DR_scaled)"
   ],
   "metadata": {
    "collapsed": false,
    "pycharm": {
     "name": "#%%\n"
    }
   }
  },
  {
   "cell_type": "code",
   "execution_count": 73,
   "outputs": [
    {
     "name": "stdout",
     "output_type": "stream",
     "text": [
      "Loss functions:\n",
      "* R-squared = 0.7884637972677501\n",
      "* RMSE = 0.16244697592140261\n",
      "* MAE = 0.2607181036588773\n"
     ]
    }
   ],
   "source": [
    "loss_functions(y_hat,Y_test_scaled)"
   ],
   "metadata": {
    "collapsed": false,
    "pycharm": {
     "name": "#%%\n"
    }
   }
  },
  {
   "cell_type": "code",
   "execution_count": null,
   "outputs": [],
   "source": [],
   "metadata": {
    "collapsed": false,
    "pycharm": {
     "name": "#%%\n"
    }
   }
  }
 ],
 "metadata": {
  "kernelspec": {
   "display_name": "Python 3",
   "language": "python",
   "name": "python3"
  },
  "language_info": {
   "codemirror_mode": {
    "name": "ipython",
    "version": 2
   },
   "file_extension": ".py",
   "mimetype": "text/x-python",
   "name": "python",
   "nbconvert_exporter": "python",
   "pygments_lexer": "ipython2",
   "version": "2.7.6"
  }
 },
 "nbformat": 4,
 "nbformat_minor": 0
}